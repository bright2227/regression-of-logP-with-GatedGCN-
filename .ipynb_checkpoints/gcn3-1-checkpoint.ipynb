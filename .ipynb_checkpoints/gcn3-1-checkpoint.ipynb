{
 "cells": [
  {
   "cell_type": "markdown",
   "metadata": {},
   "source": [
    "## Data Processing"
   ]
  },
  {
   "cell_type": "code",
   "execution_count": 1,
   "metadata": {},
   "outputs": [
    {
     "name": "stdout",
     "output_type": "stream",
     "text": [
      "192734\n"
     ]
    }
   ],
   "source": [
    "import numpy as np\n",
    "import tensorflow as tf\n",
    "from rdkit import Chem, DataStructs\n",
    "from rdkit.Chem import AllChem\n",
    "from rdkit.Chem.Crippen import MolLogP\n",
    "import matplotlib.pyplot as plt\n",
    "import time\n",
    "import datetime\n",
    "import random\n",
    "import scipy.sparse as sp\n",
    "from collections import defaultdict\n",
    "import random\n",
    "\n",
    "\n",
    "num_mol = 100000\n",
    "\n",
    "with open('ZINC.smiles', 'r') as file:\n",
    "    contents = file.readlines()\n",
    "    print(len(contents))\n",
    "    smi_total = []\n",
    "    logP_total= []\n",
    "    for i in range(num_mol):\n",
    "        smi = contents[i].strip()\n",
    "        mol = Chem.MolFromSmiles(smi)\n",
    "        smi_total.append(smi)\n",
    "        logP_total.append(MolLogP(mol))\n",
    "\n",
    "    logP_total= np.array(logP_total).reshape(-1,1)\n",
    "\n"
   ]
  },
  {
   "cell_type": "code",
   "execution_count": 2,
   "metadata": {},
   "outputs": [
    {
     "data": {
      "image/png": "[encoded data removed]",
      "text/plain": [
       "<Figure size 432x288 with 1 Axes>"
      ]
     },
     "metadata": {
      "needs_background": "light"
     },
     "output_type": "display_data"
    }
   ],
   "source": [
    "plt.hist(logP_total, bins = 20)\n",
    "plt.show()"
   ]
  },
  {
   "cell_type": "code",
   "execution_count": 3,
   "metadata": {},
   "outputs": [
    {
     "name": "stdout",
     "output_type": "stream",
     "text": [
      "19\n",
      "defaultdict(<class 'int'>, {1: 316826, 3: 443230, 2: 732489, 4: 16918})\n",
      "defaultdict(<class 'int'>, {2: 305225, 0: 589767, 1: 447459, 3: 167012})\n",
      "defaultdict(<class 'int'>, {2: 284794, 0: 653118, 1: 426879, 3: 144672})\n",
      "defaultdict(<class 'int'>, {'N': 205291, 'C': 1121069, 'O': 142317, 'F': 19232, 'Cl': 8161, 'S': 11903, 'Br': 1455, 'I': 35})\n"
     ]
    }
   ],
   "source": [
    "max_atom_n = 0\n",
    "atom_species = defaultdict(int)\n",
    "atom_degree = defaultdict(int)\n",
    "atom_H_n = defaultdict(int)\n",
    "atom_valence = defaultdict(int)\n",
    "\n",
    "for smi in smi_total:\n",
    "    mol = Chem.MolFromSmiles(smi.strip())\n",
    "    \n",
    "    adj = Chem.rdmolops.GetAdjacencyMatrix(mol)\n",
    "    max_atom_n = max(adj.shape[0], max_atom_n)\n",
    "    \n",
    "    for atom in mol.GetAtoms():\n",
    "        atom_species[atom.GetSymbol()] += 1\n",
    "        atom_degree[atom.GetDegree()] += 1\n",
    "        atom_H_n[atom.GetTotalNumHs()] += 1\n",
    "        atom_valence[atom.GetImplicitValence()] += 1 \n",
    "\n",
    "    \n",
    "for inf in (max_atom_n, atom_degree, atom_H_n, atom_valence, atom_species):\n",
    "    print(inf)"
   ]
  },
  {
   "cell_type": "code",
   "execution_count": 4,
   "metadata": {},
   "outputs": [
    {
     "name": "stdout",
     "output_type": "stream",
     "text": [
      "21\n"
     ]
    }
   ],
   "source": [
    "def atom_feature(atom):\n",
    "    features =  list(map(lambda s: int(atom.GetDegree() == s), [1, 2, 3, 4])) + \\\n",
    "                list(map(lambda s: int(atom.GetTotalNumHs() == s), [0, 1, 2, 3])) + \\\n",
    "                list(map(lambda s: int(atom.GetImplicitValence() == s), [0, 1, 2, 3,])) + \\\n",
    "                list(map(lambda s: int(atom.GetSymbol() == s), ['C', 'N', 'O', 'S', 'F', 'Cl', 'Br','I',])) + \\\n",
    "                [atom.GetIsAromatic()]\n",
    "\n",
    "    return np.array(features)\n",
    "\n",
    "\n",
    "num_features = len(atom_feature(atom))\n",
    "print(num_features)"
   ]
  },
  {
   "cell_type": "code",
   "execution_count": 5,
   "metadata": {},
   "outputs": [],
   "source": [
    "def smi_to_feat_adj(smiles_list, num_features):\n",
    "    all_adj = []\n",
    "    all_features = []\n",
    "    all_index = []\n",
    "    \n",
    "    for smi in smiles_list:\n",
    "        mol = Chem.MolFromSmiles(smi.strip())\n",
    "        adj = Chem.rdmolops.GetAdjacencyMatrix(mol)\n",
    "        adj = sp.csr_matrix(np.array(adj, dtype='int64')).tocsr()\n",
    "\n",
    "        feature = []\n",
    "        for atom in mol.GetAtoms():\n",
    "            feature.append( atom_feature(atom) ) \n",
    "\n",
    "        all_features.append(np.array(feature))\n",
    "        all_adj.append(adj)\n",
    "        all_index.append(len(feature))\n",
    "    \n",
    "    all_index = np.repeat(np.arange(len(all_index)), all_index)\n",
    "\n",
    "    #to tensor\n",
    "    all_adj = sp.block_diag(all_adj)\n",
    "    all_adj = tf.SparseTensor(\n",
    "        indices=np.array([all_adj.row, all_adj.col]).T,\n",
    "        values=all_adj.data,\n",
    "        dense_shape=all_adj.shape    \n",
    "    )\n",
    "    \n",
    "    all_features = np.vstack(all_features)\n",
    "    all_features = tf.convert_to_tensor(all_features)\n",
    "    \n",
    "    all_index  = tf.convert_to_tensor(all_index)\n",
    "    return all_features, all_adj, all_index\n"
   ]
  },
  {
   "cell_type": "code",
   "execution_count": 6,
   "metadata": {},
   "outputs": [],
   "source": [
    "num_train = 80000\n",
    "num_validation = 10000\n",
    "num_test = 10000\n",
    "\n",
    "smi_train = smi_total[0:num_train]\n",
    "logP_train = logP_total[0:num_train]\n",
    "smi_validation = smi_total[num_train:(num_train+num_validation)]\n",
    "logP_validation = logP_total[num_train:(num_train+num_validation)]\n",
    "smi_test = smi_total[(num_train+num_validation):]\n",
    "logP_test = logP_total[(num_train+num_validation):]\n",
    "\n",
    "def data_batchs(smi_list, logP, batch_size):\n",
    "    logP = tf.convert_to_tensor(logP)\n",
    "    i = 0\n",
    "    X, A, I, y = [], [], [], []\n",
    "    \n",
    "    while i < len(smi_list):\n",
    "\n",
    "        batch_features, batch_adj, batch_index = smi_to_feat_adj(smi_list[i:i+batch_size], num_features)\n",
    "        X.append(batch_features)\n",
    "        A.append(batch_adj)\n",
    "        I.append(batch_index)\n",
    "        y.append(logP[i:i+batch_size])\n",
    "\n",
    "        i += batch_size\n",
    "    \n",
    "    return X, A, I, y\n",
    "\n",
    "X_train, A_train, I_train, logP_train = data_batchs(smi_train, logP_train, 25)\n",
    "X_validation, A_validation, I_validation, logP_validation = data_batchs(smi_validation, logP_validation, 500)\n",
    "X_test, A_test, I_test, logP_test = data_batchs(smi_test, logP_test, 500)\n"
   ]
  },
  {
   "cell_type": "markdown",
   "metadata": {},
   "source": [
    "## Model Building"
   ]
  },
  {
   "cell_type": "code",
   "execution_count": 7,
   "metadata": {},
   "outputs": [],
   "source": [
    "from tensorflow.keras.layers import Input, Dense, Layer, Dropout\n",
    "from tensorflow.keras import activations, initializers\n",
    "from tensorflow.keras.models import Model\n",
    "from tensorflow.keras.optimizers import Adam\n",
    "from tensorflow.keras.losses import MSE\n",
    "\n",
    "tf.__version__\n",
    "\n",
    "class Readout(Layer):\n",
    "    def __init__(self, units=32, **kwargs):\n",
    "        super().__init__(**kwargs)\n",
    "        self.units = units\n",
    "\n",
    "    def build(self, input_shape):\n",
    "        self.dense = Dense(units=self.units, \n",
    "                             activation=None, \n",
    "                             use_bias=True, \n",
    "                             kernel_initializer='glorot_uniform', \n",
    "                             bias_initializer='zeros',)    \n",
    "\n",
    "    def call(self, input_X, input_I):\n",
    "        output_Z = self.dense(input_X)\n",
    "        output_Z = tf.math.segment_sum(output_Z, input_I)\n",
    "        output_Z = tf.nn.sigmoid(output_Z)\n",
    "        return output_Z    \n",
    "\n",
    "\n",
    "class GatedGCN(Layer):\n",
    "    def __init__(self, units=32, **kwargs):\n",
    "        super().__init__()\n",
    "        self.units = units\n",
    "\n",
    "    def build(self, input_shape):\n",
    "        self.inp_dim = int(input_shape[-1])\n",
    "        if(self.units != self.inp_dim):\n",
    "            self.dense_i = Dense(\n",
    "                units=self.units, \n",
    "                activation=None, \n",
    "                use_bias=True, \n",
    "                kernel_initializer='glorot_uniform', \n",
    "                bias_initializer='zeros',)\n",
    "\n",
    "        self.dense_n = Dense(units=self.units, \n",
    "                             activation=None, \n",
    "                             use_bias=True, \n",
    "                             kernel_initializer='glorot_uniform', \n",
    "                             bias_initializer='zeros',)    \n",
    "        \n",
    "        self.dense_gate_n = Dense(units=self.units, \n",
    "                             activation=None, \n",
    "                             use_bias=True, \n",
    "                             kernel_initializer='glorot_uniform', \n",
    "                             bias_initializer='zeros',)\n",
    "        \n",
    "        self.dense_gate_i = Dense(units=self.units, \n",
    "                             activation=None, \n",
    "                             use_bias=True, \n",
    "                             kernel_initializer='glorot_uniform', \n",
    "                             bias_initializer='zeros',)\n",
    "\n",
    "    def call(self, input_X, input_A):\n",
    "        new_X = self.dense_n(input_X)\n",
    "        new_X = tf.sparse.sparse_dense_matmul(input_A, new_X)\n",
    "        \n",
    "        X1 = self.dense_gate_i(input_X)\n",
    "        X2 = self.dense_gate_n(new_X)\n",
    "        gate_coefficient = tf.nn.sigmoid(X1 + X2)\n",
    "\n",
    "        if(self.units != self.inp_dim):\n",
    "            input_X = self.dense_i(input_X)\n",
    "            \n",
    "        output_X = tf.multiply(new_X, gate_coefficient) + tf.multiply(input_X, 1.0-gate_coefficient)        \n",
    "        \n",
    "        return output_X\n",
    "    "
   ]
  },
  {
   "cell_type": "code",
   "execution_count": 23,
   "metadata": {},
   "outputs": [
    {
     "name": "stdout",
     "output_type": "stream",
     "text": [
      "Model: \"functional_9\"\n",
      "__________________________________________________________________________________________________\n",
      "Layer (type)                    Output Shape         Param #     Connected to                     \n",
      "==================================================================================================\n",
      "input_13 (InputLayer)           [(None, 21)]         0                                            \n",
      "__________________________________________________________________________________________________\n",
      "input_14 (InputLayer)           [(None, None)]       0                                            \n",
      "__________________________________________________________________________________________________\n",
      "gated_gcn_16 (GatedGCN)         (None, 64)           8384        input_13[0][0]                   \n",
      "                                                                 input_14[0][0]                   \n",
      "__________________________________________________________________________________________________\n",
      "gated_gcn_17 (GatedGCN)         (None, 64)           12480       gated_gcn_16[0][0]               \n",
      "                                                                 input_14[0][0]                   \n",
      "__________________________________________________________________________________________________\n",
      "gated_gcn_18 (GatedGCN)         (None, 64)           12480       gated_gcn_17[0][0]               \n",
      "                                                                 input_14[0][0]                   \n",
      "__________________________________________________________________________________________________\n",
      "gated_gcn_19 (GatedGCN)         (None, 64)           12480       gated_gcn_18[0][0]               \n",
      "                                                                 input_14[0][0]                   \n",
      "__________________________________________________________________________________________________\n",
      "input_15 (InputLayer)           [(None,)]            0                                            \n",
      "__________________________________________________________________________________________________\n",
      "readout_4 (Readout)             (None, 256)          16640       gated_gcn_19[0][0]               \n",
      "                                                                 input_15[0][0]                   \n",
      "__________________________________________________________________________________________________\n",
      "dense_12 (Dense)                (None, 256)          65792       readout_4[0][0]                  \n",
      "__________________________________________________________________________________________________\n",
      "dense_13 (Dense)                (None, 256)          65792       dense_12[0][0]                   \n",
      "__________________________________________________________________________________________________\n",
      "dropout_3 (Dropout)             (None, 256)          0           dense_13[0][0]                   \n",
      "__________________________________________________________________________________________________\n",
      "dense_14 (Dense)                (None, 1)            257         dropout_3[0][0]                  \n",
      "==================================================================================================\n",
      "Total params: 194,305\n",
      "Trainable params: 194,305\n",
      "Non-trainable params: 0\n",
      "__________________________________________________________________________________________________\n"
     ]
    }
   ],
   "source": [
    "num_features=21\n",
    "\n",
    "num_layer = 4\n",
    "hidden_dim1 = 64\n",
    "hidden_dim2 = 256\n",
    "init_lr = 0.0001\n",
    "\n",
    "X = Input(shape=(num_features,))\n",
    "A = Input(shape=(None,), sparse=True)\n",
    "I = Input(shape=(), dtype=tf.int64)\n",
    "\n",
    "h = X\n",
    "\n",
    "for i in range(num_layer):\n",
    "    h = GatedGCN(units=hidden_dim1)(h, A)\n",
    "\n",
    "h = Readout(units=hidden_dim2)(h, I) \n",
    "\n",
    "h = Dense(units=hidden_dim2, use_bias=True, activation='relu')(h)\n",
    "h = Dense(units=hidden_dim2, use_bias=True, activation='tanh')(h)\n",
    "h = Dropout(0.5)(h)\n",
    "Y_pred = Dense(units=1, use_bias=True)(h)\n",
    "\n",
    "model = Model(inputs=[X, A, I], outputs=Y_pred)\n",
    "optimizer = Adam(lr=init_lr)\n",
    "model.compile(optimizer=optimizer, loss='mse')\n",
    "model.summary()\n"
   ]
  },
  {
   "cell_type": "markdown",
   "metadata": {},
   "source": [
    "## Training and Testing"
   ]
  },
  {
   "cell_type": "code",
   "execution_count": 24,
   "metadata": {
    "scrolled": true
   },
   "outputs": [],
   "source": [
    "\n",
    "@tf.function(experimental_relax_shapes=True)\n",
    "def train_step(x, a, i, y):\n",
    "    with tf.GradientTape() as tape:\n",
    "        predictions = model([x, a, i], training=True)\n",
    "        loss = MSE(y, predictions)\n",
    "    gradients = tape.gradient(loss, model.trainable_variables)\n",
    "    optimizer.apply_gradients(zip(gradients, model.trainable_variables))\n",
    "    return tf.reduce_mean(loss)\n",
    "\n",
    "@tf.function(experimental_relax_shapes=True)\n",
    "def test_step(x, a, i, y):\n",
    "    predictions = model([x, a, i], training=False)\n",
    "    loss = MSE(y, predictions)\n",
    "    return tf.reduce_mean(loss)\n",
    "\n",
    "@tf.function(experimental_relax_shapes=True)\n",
    "def train_step(x, a, i, y):\n",
    "    with tf.GradientTape() as tape:\n",
    "        predictions = model([x, a, i], training=True)\n",
    "        loss = MSE(y, predictions)\n",
    "    gradients = tape.gradient(loss, model.trainable_variables)\n",
    "    optimizer.apply_gradients(zip(gradients, model.trainable_variables))\n",
    "    return tf.reduce_mean(loss)\n",
    "\n",
    "@tf.function(experimental_relax_shapes=True)\n",
    "def test_step(x, a, i, y):\n",
    "    predictions = model([x, a, i], training=False)\n",
    "    loss = MSE(y, predictions)\n",
    "    return tf.reduce_mean(loss)"
   ]
  },
  {
   "cell_type": "code",
   "execution_count": 25,
   "metadata": {},
   "outputs": [
    {
     "name": "stdout",
     "output_type": "stream",
     "text": [
      "Epoch:0  MSE Loss:0.421   val_Loss:0.135\n",
      "Epoch:1  MSE Loss:0.127   val_Loss:0.087\n",
      "Epoch:2  MSE Loss:0.090   val_Loss:0.067\n",
      "Epoch:3  MSE Loss:0.073   val_Loss:0.053\n",
      "Epoch:4  MSE Loss:0.061   val_Loss:0.054\n",
      "Epoch:5  MSE Loss:0.054   val_Loss:0.043\n",
      "Epoch:6  MSE Loss:0.049   val_Loss:0.034\n",
      "Epoch:7  MSE Loss:0.044   val_Loss:0.034\n",
      "Epoch:8  MSE Loss:0.039   val_Loss:0.060\n",
      "Epoch:9  MSE Loss:0.037   val_Loss:0.045\n",
      "Epoch:10  MSE Loss:0.034   val_Loss:0.031\n",
      "Epoch:11  MSE Loss:0.033   val_Loss:0.020\n",
      "Epoch:12  MSE Loss:0.031   val_Loss:0.026\n",
      "Epoch:13  MSE Loss:0.030   val_Loss:0.020\n",
      "Epoch:14  MSE Loss:0.028   val_Loss:0.019\n",
      "Epoch:15  MSE Loss:0.027   val_Loss:0.018\n",
      "Epoch:16  MSE Loss:0.026   val_Loss:0.015\n",
      "Epoch:17  MSE Loss:0.025   val_Loss:0.017\n",
      "Epoch:18  MSE Loss:0.024   val_Loss:0.016\n",
      "Epoch:19  MSE Loss:0.023   val_Loss:0.020\n",
      "Epoch:20  MSE Loss:0.022   val_Loss:0.015\n",
      "Epoch:21  MSE Loss:0.021   val_Loss:0.014\n",
      "Epoch:22  MSE Loss:0.021   val_Loss:0.013\n",
      "Epoch:23  MSE Loss:0.020   val_Loss:0.015\n",
      "Epoch:24  MSE Loss:0.020   val_Loss:0.010\n",
      "Epoch:25  MSE Loss:0.019   val_Loss:0.010\n",
      "Epoch:26  MSE Loss:0.019   val_Loss:0.015\n",
      "Epoch:27  MSE Loss:0.019   val_Loss:0.017\n",
      "Epoch:28  MSE Loss:0.018   val_Loss:0.012\n",
      "Epoch:29  MSE Loss:0.018   val_Loss:0.010\n",
      "Epoch:30  MSE Loss:0.017   val_Loss:0.010\n",
      "Epoch:31  MSE Loss:0.017   val_Loss:0.009\n",
      "Epoch:32  MSE Loss:0.017   val_Loss:0.009\n",
      "Epoch:33  MSE Loss:0.017   val_Loss:0.009\n",
      "Epoch:34  MSE Loss:0.016   val_Loss:0.010\n",
      "Epoch:35  MSE Loss:0.016   val_Loss:0.014\n",
      "Epoch:36  MSE Loss:0.016   val_Loss:0.008\n",
      "Epoch:37  MSE Loss:0.015   val_Loss:0.010\n",
      "Epoch:38  MSE Loss:0.015   val_Loss:0.008\n",
      "Epoch:39  MSE Loss:0.015   val_Loss:0.010\n",
      "Epoch:40  MSE Loss:0.015   val_Loss:0.010\n",
      "Epoch:41  MSE Loss:0.014   val_Loss:0.008\n",
      "Epoch:42  MSE Loss:0.014   val_Loss:0.009\n",
      "Epoch:43  MSE Loss:0.014   val_Loss:0.009\n",
      "Epoch:44  MSE Loss:0.014   val_Loss:0.007\n",
      "Epoch:45  MSE Loss:0.014   val_Loss:0.011\n",
      "Epoch:46  MSE Loss:0.014   val_Loss:0.007\n",
      "Epoch:47  MSE Loss:0.014   val_Loss:0.007\n",
      "Epoch:48  MSE Loss:0.014   val_Loss:0.008\n",
      "Epoch:49  MSE Loss:0.013   val_Loss:0.007\n"
     ]
    }
   ],
   "source": [
    "\n",
    "epochs = 50\n",
    "\n",
    "try:\n",
    "    for epoch_n in range(epochs):\n",
    "        epoch_loss = 0\n",
    "        batch_n = 0\n",
    "        for x, a, i, y in zip(X_train, A_train, I_train, logP_train):\n",
    "            loss = train_step(x, a, i, y)\n",
    "            epoch_loss += loss\n",
    "            batch_n += 1\n",
    "\n",
    "            if batch_n == len(X_train):\n",
    "\n",
    "                val_loss = 0\n",
    "                val_n = 0\n",
    "                for x, a, i, y in zip(X_validation, A_validation, I_validation, logP_validation):\n",
    "                    val_loss += test_step(x, a, i, y)\n",
    "                    val_n += 1\n",
    "                print(f'Epoch:{epoch_n}  MSE Loss:{epoch_loss/len(X_train):.3f}   val_Loss:{val_loss/val_n:.3f}')\n",
    "                epoch_loss = 0\n",
    "                batch_n = 0\n",
    "\n",
    "                # shuffle\n",
    "                c = list(zip(X_train, A_train, I_train, logP_train))\n",
    "                random.shuffle(c)\n",
    "                X_train, A_train, I_train, logP_train = zip(*c)\n",
    "\n",
    "except:\n",
    "    print('Early stoping')\n",
    "    "
   ]
  },
  {
   "cell_type": "markdown",
   "metadata": {},
   "source": [
    " "
   ]
  },
  {
   "cell_type": "code",
   "execution_count": 26,
   "metadata": {},
   "outputs": [
    {
     "name": "stdout",
     "output_type": "stream",
     "text": [
      "test_Loss:0.009\n"
     ]
    }
   ],
   "source": [
    "test_n, test_loss = 0, 0\n",
    "for x, a, i, y in zip(X_test, A_test, I_test, logP_test):\n",
    "    test_loss += test_step(x, a, i, y)\n",
    "    test_n += 1\n",
    "print(f'test_Loss:{test_loss/test_n:.3f}')"
   ]
  },
  {
   "cell_type": "code",
   "execution_count": 55,
   "metadata": {},
   "outputs": [],
   "source": [
    "def predict_real_comparison(X, A, I,logP):\n",
    "    reals = np.array([])\n",
    "    predictions = np.array([])\n",
    "\n",
    "    for x, a, i, y in zip(X, A, I, logP):\n",
    "        pred = model([x, a, i], training=False)\n",
    "        reals = np.concatenate((reals, y.numpy().reshape(-1)),axis=0)\n",
    "        predictions = np.concatenate((predictions, pred.numpy().reshape(-1)),axis=0)\n",
    "        \n",
    "    return reals, predictions"
   ]
  },
  {
   "cell_type": "code",
   "execution_count": 60,
   "metadata": {},
   "outputs": [],
   "source": [
    "train_real, train_prediction = predict_real_comparison(X_train, A_train, I_train, logP_train)\n",
    "test_real, test_prediction = predict_real_comparison(X_test, A_test, I_test, logP_test)\n",
    "validation_real, validation_prediction = predict_real_comparison(X_validation, A_validation, I_validation, logP_validation)\n"
   ]
  },
  {
   "cell_type": "code",
   "execution_count": 88,
   "metadata": {},
   "outputs": [
    {
     "data": {
      "image/png": "[encoded data removed]",
      "text/plain": [
       "<Figure size 648x648 with 1 Axes>"
      ]
     },
     "metadata": {
      "needs_background": "light"
     },
     "output_type": "display_data"
    }
   ],
   "source": [
    "fig, ax = plt.subplots(figsize=(9,9))\n",
    "ax.set_aspect('equal')\n",
    "\n",
    "plt.title(\"Training Result visualization\") # title\n",
    "plt.ylabel(\"Prediction log P\") # y label\n",
    "plt.xlabel(\"Real log P\") # x label\n",
    "\n",
    "train_plt = plt.scatter(train_real, train_prediction, s=5, c='black')\n",
    "test_plt = plt.scatter(test_real, test_prediction, s=5, c='r')\n",
    "validation_plt = plt.scatter(validation_real, validation_prediction, s=5, c='b')\n",
    "\n",
    "\n",
    "plt.legend([train_plt, test_plt, validation_plt],\n",
    "           ['train', 'test', 'validation'],\n",
    "           scatterpoints=1,\n",
    "           loc='lower right',\n",
    "           ncol=1,\n",
    "           fontsize=12)\n",
    "\n",
    "plt.show()"
   ]
  },
  {
   "cell_type": "code",
   "execution_count": null,
   "metadata": {},
   "outputs": [],
   "source": []
  }
 ],
 "metadata": {
  "kernelspec": {
   "display_name": "Python 3",
   "language": "python",
   "name": "python3"
  },
  "language_info": {
   "codemirror_mode": {
    "name": "ipython",
    "version": 3
   },
   "file_extension": ".py",
   "mimetype": "text/x-python",
   "name": "python",
   "nbconvert_exporter": "python",
   "pygments_lexer": "ipython3",
   "version": "3.6.9"
  }
 },
 "nbformat": 4,
 "nbformat_minor": 2
}
