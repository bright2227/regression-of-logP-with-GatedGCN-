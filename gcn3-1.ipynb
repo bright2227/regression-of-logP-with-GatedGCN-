{
 "cells": [
  {
   "cell_type": "markdown",
   "metadata": {},
   "source": [
    "## Data Processing"
   ]
  },
  {
   "cell_type": "code",
   "execution_count": 1,
   "metadata": {},
   "outputs": [
    {
     "name": "stdout",
     "output_type": "stream",
     "text": [
      "192734\n"
     ]
    }
   ],
   "source": [
    "import numpy as np\n",
    "import tensorflow as tf\n",
    "from rdkit import Chem, DataStructs\n",
    "from rdkit.Chem import AllChem\n",
    "from rdkit.Chem.Crippen import MolLogP\n",
    "import matplotlib.pyplot as plt\n",
    "import time\n",
    "import datetime\n",
    "import random\n",
    "import scipy.sparse as sp\n",
    "from collections import defaultdict\n",
    "import random\n",
    "\n",
    "\n",
    "num_mol = 100000\n",
    "\n",
    "with open('ZINC.smiles', 'r') as file:\n",
    "    contents = file.readlines()\n",
    "    print(len(contents))\n",
    "    smi_total = []\n",
    "    logP_total= []\n",
    "    for i in range(num_mol):\n",
    "        smi = contents[i].strip()\n",
    "        mol = Chem.MolFromSmiles(smi)\n",
    "        smi_total.append(smi)\n",
    "        logP_total.append(MolLogP(mol))\n",
    "\n",
    "    logP_total= np.array(logP_total).reshape(-1,1)\n",
    "\n"
   ]
  },
  {
   "cell_type": "code",
   "execution_count": 2,
   "metadata": {},
   "outputs": [
    {
     "data": {
      "image/png": "[encoded data removed]",
      "text/plain": [
       "<Figure size 432x288 with 1 Axes>"
      ]
     },
     "metadata": {
      "needs_background": "light"
     },
     "output_type": "display_data"
    }
   ],
   "source": [
    "plt.hist(logP_total, bins = 20)\n",
    "plt.show()"
   ]
  },
  {
   "cell_type": "code",
   "execution_count": 3,
   "metadata": {},
   "outputs": [
    {
     "name": "stdout",
     "output_type": "stream",
     "text": [
      "19\n",
      "defaultdict(<class 'int'>, {1: 316826, 3: 443230, 2: 732489, 4: 16918})\n",
      "defaultdict(<class 'int'>, {2: 305225, 0: 589767, 1: 447459, 3: 167012})\n",
      "defaultdict(<class 'int'>, {2: 284794, 0: 653118, 1: 426879, 3: 144672})\n",
      "defaultdict(<class 'int'>, {'N': 205291, 'C': 1121069, 'O': 142317, 'F': 19232, 'Cl': 8161, 'S': 11903, 'Br': 1455, 'I': 35})\n"
     ]
    }
   ],
   "source": [
    "max_atom_n = 0\n",
    "atom_species = defaultdict(int)\n",
    "atom_degree = defaultdict(int)\n",
    "atom_H_n = defaultdict(int)\n",
    "atom_valence = defaultdict(int)\n",
    "\n",
    "for smi in smi_total:\n",
    "    mol = Chem.MolFromSmiles(smi.strip())\n",
    "    \n",
    "    adj = Chem.rdmolops.GetAdjacencyMatrix(mol)\n",
    "    max_atom_n = max(adj.shape[0], max_atom_n)\n",
    "    \n",
    "    for atom in mol.GetAtoms():\n",
    "        atom_species[atom.GetSymbol()] += 1\n",
    "        atom_degree[atom.GetDegree()] += 1\n",
    "        atom_H_n[atom.GetTotalNumHs()] += 1\n",
    "        atom_valence[atom.GetImplicitValence()] += 1 \n",
    "\n",
    "    \n",
    "for inf in (max_atom_n, atom_degree, atom_H_n, atom_valence, atom_species):\n",
    "    print(inf)"
   ]
  },
  {
   "cell_type": "code",
   "execution_count": 4,
   "metadata": {},
   "outputs": [
    {
     "name": "stdout",
     "output_type": "stream",
     "text": [
      "21\n"
     ]
    }
   ],
   "source": [
    "def atom_feature(atom):\n",
    "    features =  list(map(lambda s: int(atom.GetDegree() == s), [1, 2, 3, 4])) + \\\n",
    "                list(map(lambda s: int(atom.GetTotalNumHs() == s), [0, 1, 2, 3])) + \\\n",
    "                list(map(lambda s: int(atom.GetImplicitValence() == s), [0, 1, 2, 3,])) + \\\n",
    "                list(map(lambda s: int(atom.GetSymbol() == s), ['C', 'N', 'O', 'S', 'F', 'Cl', 'Br','I',])) + \\\n",
    "                [atom.GetIsAromatic()]\n",
    "\n",
    "    return np.array(features)\n",
    "\n",
    "\n",
    "num_features = len(atom_feature(atom))\n",
    "print(num_features)"
   ]
  },
  {
   "cell_type": "code",
   "execution_count": 5,
   "metadata": {},
   "outputs": [],
   "source": [
    "def smi_to_feat_adj(smiles_list, num_features):\n",
    "    all_adj = []\n",
    "    all_features = []\n",
    "    all_index = []\n",
    "    \n",
    "    for smi in smiles_list:\n",
    "        mol = Chem.MolFromSmiles(smi.strip())\n",
    "        adj = Chem.rdmolops.GetAdjacencyMatrix(mol)\n",
    "        adj = sp.csr_matrix(np.array(adj, dtype='int64')).tocsr()\n",
    "\n",
    "        feature = []\n",
    "        for atom in mol.GetAtoms():\n",
    "            feature.append( atom_feature(atom) ) \n",
    "\n",
    "        all_features.append(np.array(feature))\n",
    "        all_adj.append(adj)\n",
    "        all_index.append(len(feature))\n",
    "    \n",
    "    all_index = np.repeat(np.arange(len(all_index)), all_index)\n",
    "\n",
    "    #to tensor\n",
    "    all_adj = sp.block_diag(all_adj)\n",
    "    all_adj = tf.SparseTensor(\n",
    "        indices=np.array([all_adj.row, all_adj.col]).T,\n",
    "        values=all_adj.data,\n",
    "        dense_shape=all_adj.shape    \n",
    "    )\n",
    "    \n",
    "    all_features = np.vstack(all_features)\n",
    "    all_features = tf.convert_to_tensor(all_features)\n",
    "    \n",
    "    all_index  = tf.convert_to_tensor(all_index)\n",
    "    return all_features, all_adj, all_index\n"
   ]
  },
  {
   "cell_type": "code",
   "execution_count": 6,
   "metadata": {},
   "outputs": [],
   "source": [
    "num_train = 80000\n",
    "num_validation = 10000\n",
    "num_test = 10000\n",
    "\n",
    "smi_train = smi_total[0:num_train]\n",
    "logP_train = logP_total[0:num_train]\n",
    "smi_validation = smi_total[num_train:(num_train+num_validation)]\n",
    "logP_validation = logP_total[num_train:(num_train+num_validation)]\n",
    "smi_test = smi_total[(num_train+num_validation):]\n",
    "logP_test = logP_total[(num_train+num_validation):]\n",
    "\n",
    "def data_batchs(smi_list, logP, batch_size):\n",
    "    logP = tf.convert_to_tensor(logP)\n",
    "    i = 0\n",
    "    X, A, I, y = [], [], [], []\n",
    "    \n",
    "    while i < len(smi_list):\n",
    "\n",
    "        batch_features, batch_adj, batch_index = smi_to_feat_adj(smi_list[i:i+batch_size], num_features)\n",
    "        X.append(batch_features)\n",
    "        A.append(batch_adj)\n",
    "        I.append(batch_index)\n",
    "        y.append(logP[i:i+batch_size])\n",
    "\n",
    "        i += batch_size\n",
    "    \n",
    "    return X, A, I, y\n",
    "\n",
    "X_train, A_train, I_train, logP_train = data_batchs(smi_train, logP_train, 25)\n",
    "X_validation, A_validation, I_validation, logP_validation = data_batchs(smi_validation, logP_validation, 500)\n",
    "X_test, A_test, I_test, logP_test = data_batchs(smi_test, logP_test, 500)\n"
   ]
  },
  {
   "cell_type": "markdown",
   "metadata": {},
   "source": [
    "## Model Building"
   ]
  },
  {
   "cell_type": "code",
   "execution_count": 7,
   "metadata": {},
   "outputs": [],
   "source": [
    "from tensorflow.keras.layers import Input, Dense, Layer, Dropout\n",
    "from tensorflow.keras import activations, initializers\n",
    "from tensorflow.keras.models import Model\n",
    "from tensorflow.keras.optimizers import Adam\n",
    "from tensorflow.keras.losses import MSE\n",
    "\n",
    "tf.__version__\n",
    "\n",
    "class Readout(Layer):\n",
    "    def __init__(self, units=32, **kwargs):\n",
    "        super().__init__(**kwargs)\n",
    "        self.units = units\n",
    "\n",
    "    def build(self, input_shape):\n",
    "        self.dense = Dense(units=self.units, \n",
    "                             activation=None, \n",
    "                             use_bias=True, \n",
    "                             kernel_initializer='glorot_uniform', \n",
    "                             bias_initializer='zeros',)    \n",
    "\n",
    "    def call(self, input_X, input_I):\n",
    "        output_Z = self.dense(input_X)\n",
    "        output_Z = tf.math.segment_sum(output_Z, input_I)\n",
    "        output_Z = tf.nn.sigmoid(output_Z)\n",
    "        return output_Z    \n",
    "\n",
    "\n",
    "class GatedGCN(Layer):\n",
    "    def __init__(self, units=32, **kwargs):\n",
    "        super().__init__()\n",
    "        self.units = units\n",
    "\n",
    "    def build(self, input_shape):\n",
    "        self.inp_dim = int(input_shape[-1])\n",
    "        if(self.units != self.inp_dim):\n",
    "            self.dense_i = Dense(\n",
    "                units=self.units, \n",
    "                activation=None, \n",
    "                use_bias=True, \n",
    "                kernel_initializer='glorot_uniform', \n",
    "                bias_initializer='zeros',)\n",
    "\n",
    "        self.dense_n = Dense(units=self.units, \n",
    "                             activation=None, \n",
    "                             use_bias=True, \n",
    "                             kernel_initializer='glorot_uniform', \n",
    "                             bias_initializer='zeros',)    \n",
    "        \n",
    "        self.dense_gate_n = Dense(units=self.units, \n",
    "                             activation=None, \n",
    "                             use_bias=True, \n",
    "                             kernel_initializer='glorot_uniform', \n",
    "                             bias_initializer='zeros',)\n",
    "        \n",
    "        self.dense_gate_i = Dense(units=self.units, \n",
    "                             activation=None, \n",
    "                             use_bias=True, \n",
    "                             kernel_initializer='glorot_uniform', \n",
    "                             bias_initializer='zeros',)\n",
    "\n",
    "    def call(self, input_X, input_A):\n",
    "        new_X = self.dense_n(input_X)\n",
    "        new_X = tf.sparse.sparse_dense_matmul(input_A, new_X)\n",
    "        \n",
    "        X1 = self.dense_gate_i(input_X)\n",
    "        X2 = self.dense_gate_n(new_X)\n",
    "        gate_coefficient = tf.nn.sigmoid(X1 + X2)\n",
    "\n",
    "        if(self.units != self.inp_dim):\n",
    "            input_X = self.dense_i(input_X)\n",
    "            \n",
    "        output_X = tf.multiply(new_X, gate_coefficient) + tf.multiply(input_X, 1.0-gate_coefficient)        \n",
    "        \n",
    "        return output_X\n",
    "    "
   ]
  },
  {
   "cell_type": "code",
   "execution_count": 8,
   "metadata": {},
   "outputs": [
    {
     "name": "stdout",
     "output_type": "stream",
     "text": [
      "Model: \"functional_1\"\n",
      "__________________________________________________________________________________________________\n",
      "Layer (type)                    Output Shape         Param #     Connected to                     \n",
      "==================================================================================================\n",
      "input_1 (InputLayer)            [(None, 21)]         0                                            \n",
      "__________________________________________________________________________________________________\n",
      "input_2 (InputLayer)            [(None, None)]       0                                            \n",
      "__________________________________________________________________________________________________\n",
      "gated_gcn (GatedGCN)            (None, 64)           8384        input_1[0][0]                    \n",
      "                                                                 input_2[0][0]                    \n",
      "__________________________________________________________________________________________________\n",
      "gated_gcn_1 (GatedGCN)          (None, 64)           12480       gated_gcn[0][0]                  \n",
      "                                                                 input_2[0][0]                    \n",
      "__________________________________________________________________________________________________\n",
      "gated_gcn_2 (GatedGCN)          (None, 64)           12480       gated_gcn_1[0][0]                \n",
      "                                                                 input_2[0][0]                    \n",
      "__________________________________________________________________________________________________\n",
      "gated_gcn_3 (GatedGCN)          (None, 64)           12480       gated_gcn_2[0][0]                \n",
      "                                                                 input_2[0][0]                    \n",
      "__________________________________________________________________________________________________\n",
      "input_3 (InputLayer)            [(None,)]            0                                            \n",
      "__________________________________________________________________________________________________\n",
      "readout (Readout)               (None, 256)          16640       gated_gcn_3[0][0]                \n",
      "                                                                 input_3[0][0]                    \n",
      "__________________________________________________________________________________________________\n",
      "dense (Dense)                   (None, 256)          65792       readout[0][0]                    \n",
      "__________________________________________________________________________________________________\n",
      "dense_1 (Dense)                 (None, 256)          65792       dense[0][0]                      \n",
      "__________________________________________________________________________________________________\n",
      "dropout (Dropout)               (None, 256)          0           dense_1[0][0]                    \n",
      "__________________________________________________________________________________________________\n",
      "dense_2 (Dense)                 (None, 1)            257         dropout[0][0]                    \n",
      "==================================================================================================\n",
      "Total params: 194,305\n",
      "Trainable params: 194,305\n",
      "Non-trainable params: 0\n",
      "__________________________________________________________________________________________________\n"
     ]
    }
   ],
   "source": [
    "num_features=21\n",
    "\n",
    "num_layer = 4\n",
    "hidden_dim1 = 64\n",
    "hidden_dim2 = 256\n",
    "init_lr = 0.0001\n",
    "\n",
    "X = Input(shape=(num_features,))\n",
    "A = Input(shape=(None,), sparse=True)\n",
    "I = Input(shape=(), dtype=tf.int64)\n",
    "\n",
    "h = X\n",
    "\n",
    "for i in range(num_layer):\n",
    "    h = GatedGCN(units=hidden_dim1)(h, A)\n",
    "\n",
    "h = Readout(units=hidden_dim2)(h, I) \n",
    "\n",
    "h = Dense(units=hidden_dim2, use_bias=True, activation='relu')(h)\n",
    "h = Dense(units=hidden_dim2, use_bias=True, activation='tanh')(h)\n",
    "h = Dropout(0.5)(h)\n",
    "Y_pred = Dense(units=1, use_bias=True)(h)\n",
    "\n",
    "model = Model(inputs=[X, A, I], outputs=Y_pred)\n",
    "optimizer = Adam(lr=init_lr)\n",
    "model.compile(optimizer=optimizer, loss='mse')\n",
    "model.summary()\n"
   ]
  },
  {
   "cell_type": "markdown",
   "metadata": {},
   "source": [
    "## Training and Testing"
   ]
  },
  {
   "cell_type": "code",
   "execution_count": 9,
   "metadata": {
    "scrolled": true
   },
   "outputs": [],
   "source": [
    "\n",
    "@tf.function(experimental_relax_shapes=True)\n",
    "def train_step(x, a, i, y):\n",
    "    with tf.GradientTape() as tape:\n",
    "        predictions = model([x, a, i], training=True)\n",
    "        loss = MSE(y, predictions)\n",
    "    gradients = tape.gradient(loss, model.trainable_variables)\n",
    "    optimizer.apply_gradients(zip(gradients, model.trainable_variables))\n",
    "    return tf.reduce_mean(loss)\n",
    "\n",
    "@tf.function(experimental_relax_shapes=True)\n",
    "def test_step(x, a, i, y):\n",
    "    predictions = model([x, a, i], training=False)\n",
    "    loss = MSE(y, predictions)\n",
    "    return tf.reduce_mean(loss)\n"
   ]
  },
  {
   "cell_type": "code",
   "execution_count": 10,
   "metadata": {},
   "outputs": [
    {
     "name": "stdout",
     "output_type": "stream",
     "text": [
      "Epoch:0   Loss:0.364   val_Loss:0.192\n",
      "Epoch:1   Loss:0.126   val_Loss:0.102\n",
      "Epoch:2   Loss:0.089   val_Loss:0.067\n",
      "Epoch:3   Loss:0.072   val_Loss:0.070\n",
      "Epoch:4   Loss:0.061   val_Loss:0.050\n",
      "Epoch:5   Loss:0.052   val_Loss:0.040\n",
      "Epoch:6   Loss:0.048   val_Loss:0.046\n",
      "Epoch:7   Loss:0.043   val_Loss:0.034\n",
      "Epoch:8   Loss:0.039   val_Loss:0.037\n",
      "Epoch:9   Loss:0.037   val_Loss:0.028\n",
      "Epoch:10   Loss:0.035   val_Loss:0.029\n",
      "Epoch:11   Loss:0.032   val_Loss:0.025\n",
      "Epoch:12   Loss:0.030   val_Loss:0.020\n",
      "Epoch:13   Loss:0.030   val_Loss:0.021\n",
      "Epoch:14   Loss:0.027   val_Loss:0.022\n",
      "Epoch:15   Loss:0.028   val_Loss:0.021\n",
      "Epoch:16   Loss:0.025   val_Loss:0.023\n",
      "Epoch:17   Loss:0.024   val_Loss:0.023\n",
      "Epoch:18   Loss:0.023   val_Loss:0.014\n",
      "Epoch:19   Loss:0.023   val_Loss:0.020\n",
      "Epoch:20   Loss:0.022   val_Loss:0.016\n",
      "Epoch:21   Loss:0.022   val_Loss:0.018\n",
      "Epoch:22   Loss:0.021   val_Loss:0.016\n",
      "Epoch:23   Loss:0.020   val_Loss:0.013\n",
      "Epoch:24   Loss:0.020   val_Loss:0.014\n",
      "Epoch:25   Loss:0.020   val_Loss:0.024\n",
      "Epoch:26   Loss:0.020   val_Loss:0.013\n",
      "Epoch:27   Loss:0.018   val_Loss:0.012\n",
      "Epoch:28   Loss:0.018   val_Loss:0.011\n",
      "Epoch:29   Loss:0.018   val_Loss:0.012\n",
      "Epoch:30   Loss:0.017   val_Loss:0.010\n",
      "Epoch:31   Loss:0.017   val_Loss:0.019\n",
      "Epoch:32   Loss:0.017   val_Loss:0.011\n",
      "Epoch:33   Loss:0.016   val_Loss:0.011\n",
      "Epoch:34   Loss:0.016   val_Loss:0.010\n",
      "Epoch:35   Loss:0.016   val_Loss:0.010\n",
      "Epoch:36   Loss:0.016   val_Loss:0.013\n",
      "Epoch:37   Loss:0.015   val_Loss:0.010\n",
      "Epoch:38   Loss:0.015   val_Loss:0.014\n",
      "Epoch:39   Loss:0.015   val_Loss:0.008\n",
      "Epoch:40   Loss:0.015   val_Loss:0.010\n",
      "Epoch:41   Loss:0.014   val_Loss:0.014\n",
      "Epoch:42   Loss:0.014   val_Loss:0.008\n",
      "Epoch:43   Loss:0.014   val_Loss:0.011\n",
      "Epoch:44   Loss:0.014   val_Loss:0.010\n",
      "Epoch:45   Loss:0.014   val_Loss:0.012\n",
      "Epoch:46   Loss:0.014   val_Loss:0.010\n",
      "Epoch:47   Loss:0.013   val_Loss:0.010\n",
      "Epoch:48   Loss:0.013   val_Loss:0.009\n",
      "Epoch:49   Loss:0.013   val_Loss:0.008\n"
     ]
    }
   ],
   "source": [
    "\n",
    "epochs = 50\n",
    "\n",
    "try:\n",
    "    for epoch_n in range(epochs):\n",
    "        epoch_loss = 0\n",
    "        batch_n = 0\n",
    "        for x, a, i, y in zip(X_train, A_train, I_train, logP_train):\n",
    "            loss = train_step(x, a, i, y)\n",
    "            epoch_loss += loss\n",
    "            batch_n += 1\n",
    "\n",
    "            if batch_n == len(X_train):\n",
    "\n",
    "                val_loss = 0\n",
    "                val_n = 0\n",
    "                for x, a, i, y in zip(X_validation, A_validation, I_validation, logP_validation):\n",
    "                    val_loss += test_step(x, a, i, y)\n",
    "                    val_n += 1\n",
    "                print(f'Epoch:{epoch_n}   Loss:{epoch_loss/len(X_train):.3f}   val_Loss:{val_loss/val_n:.3f}')\n",
    "                epoch_loss = 0\n",
    "                batch_n = 0\n",
    "\n",
    "                # shuffle\n",
    "                c = list(zip(X_train, A_train, I_train, logP_train))\n",
    "                random.shuffle(c)\n",
    "                X_train, A_train, I_train, logP_train = zip(*c)\n",
    "\n",
    "except:\n",
    "    print('Early stoping')\n",
    "    "
   ]
  },
  {
   "cell_type": "markdown",
   "metadata": {},
   "source": [
    " "
   ]
  },
  {
   "cell_type": "code",
   "execution_count": 12,
   "metadata": {},
   "outputs": [
    {
     "name": "stdout",
     "output_type": "stream",
     "text": [
      "test_Loss:0.009\n"
     ]
    }
   ],
   "source": [
    "test_n, test_loss = 0, 0\n",
    "for x, a, i, y in zip(X_test, A_test, I_test, logP_test):\n",
    "    test_loss += test_step(x, a, i, y)\n",
    "    test_n += 1\n",
    "print(f'test_Loss:{test_loss/test_n:.3f}')"
   ]
  },
  {
   "cell_type": "code",
   "execution_count": 14,
   "metadata": {},
   "outputs": [
    {
     "name": "stdout",
     "output_type": "stream",
     "text": [
      "tensorflow==2.3.1\n",
      "scipy==1.3.1\n",
      "numpy==1.19.1\n",
      "matplotlib==3.1.1\n",
      "builtins\n",
      "builtins\n",
      "numpy\n",
      "tensorflow\n",
      "rdkit.Chem\n",
      "rdkit.DataStructs\n",
      "rdkit.Chem.AllChem\n",
      "matplotlib.pyplot\n",
      "time\n",
      "datetime\n",
      "random\n",
      "scipy.sparse\n",
      "tensorflow.keras.activations\n",
      "tensorflow.keras.initializers\n",
      "pkg_resources\n",
      "types\n"
     ]
    }
   ],
   "source": [
    "import pkg_resources\n",
    "import types\n",
    "def get_imports():\n",
    "    for name, val in globals().items():\n",
    "        if isinstance(val, types.ModuleType):\n",
    "            # Split ensures you get root package, \n",
    "            # not just imported function\n",
    "            name = val.__name__.split(\".\")[0]\n",
    "\n",
    "        elif isinstance(val, type):\n",
    "            name = val.__module__.split(\".\")[0]\n",
    "\n",
    "        # Some packages are weird and have different\n",
    "        # imported names vs. system/pip names. Unfortunately,\n",
    "        # there is no systematic way to get pip names from\n",
    "        # a package's imported name. You'll have to add\n",
    "        # exceptions to this list manually!\n",
    "        poorly_named_packages = {\n",
    "            \"PIL\": \"Pillow\",\n",
    "            \"sklearn\": \"scikit-learn\"\n",
    "        }\n",
    "        if name in poorly_named_packages.keys():\n",
    "            name = poorly_named_packages[name]\n",
    "\n",
    "        yield name\n",
    "imports = list(set(get_imports()))\n",
    "\n",
    "# The only way I found to get the version of the root package\n",
    "# from only the name of the package is to cross-check the names \n",
    "# of installed packages vs. imported packages\n",
    "requirements = []\n",
    "for m in pkg_resources.working_set:\n",
    "    if m.project_name in imports and m.project_name!=\"pip\":\n",
    "        requirements.append((m.project_name, m.version))\n",
    "\n",
    "for r in requirements:\n",
    "    print(\"{}=={}\".format(*r))\n",
    "    \n",
    "for name, val in globals().items():\n",
    "    if isinstance(val, types.ModuleType):\n",
    "        print(val.__name__)"
   ]
  },
  {
   "cell_type": "code",
   "execution_count": null,
   "metadata": {},
   "outputs": [],
   "source": []
  }
 ],
 "metadata": {
  "kernelspec": {
   "display_name": "Python 3",
   "language": "python",
   "name": "python3"
  },
  "language_info": {
   "codemirror_mode": {
    "name": "ipython",
    "version": 3
   },
   "file_extension": ".py",
   "mimetype": "text/x-python",
   "name": "python",
   "nbconvert_exporter": "python",
   "pygments_lexer": "ipython3",
   "version": "3.6.9"
  }
 },
 "nbformat": 4,
 "nbformat_minor": 2
}
